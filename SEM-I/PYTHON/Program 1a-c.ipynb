{
 "cells": [
  {
   "cell_type": "code",
   "execution_count": 3,
   "id": "bce8ec7f",
   "metadata": {},
   "outputs": [
    {
     "name": "stdout",
     "output_type": "stream",
     "text": [
      "1000\n"
     ]
    }
   ],
   "source": [
    "#Program 1.a\n",
    "#Write Python program to find exponent of value\n",
    "\n",
    "base=int(input('Enter Base:'))\n",
    "quo=int(input('Enter quotient:'))\n",
    "print(base**quo)"
   ]
  },
  {
   "cell_type": "code",
   "execution_count": 4,
   "id": "174bab07",
   "metadata": {},
   "outputs": [
    {
     "name": "stdout",
     "output_type": "stream",
     "text": [
      "1\n"
     ]
    }
   ],
   "source": [
    "#Program 1.b\n",
    "#Write Python Program to find GCD of number.\n",
    "import math\n",
    "f_num=int(input(\"Enter first Number:\"))\n",
    "t_num=int(input(\"Enter second Number:\"))\n",
    "result=math.gcd(f_num,t_num)\n",
    "print(result)"
   ]
  },
  {
   "cell_type": "code",
   "execution_count": 13,
   "id": "4317db91",
   "metadata": {},
   "outputs": [
    {
     "name": "stdout",
     "output_type": "stream",
     "text": [
      "11\n",
      "13\n",
      "17\n",
      "19\n"
     ]
    }
   ],
   "source": [
    "#Program 1.c \n",
    "#Write Python Program to find prime numbers from given series.\n",
    "lower=int(input(\"Enter lower range:\"))\n",
    "upper=int(input(\"Enter upper range:\"))\n",
    "for number in range(lower,upper+1):\n",
    "    if number>1:\n",
    "        for i in range(2,(number//2)+1):\n",
    "            if number%i==0:\n",
    "                break\n",
    "        else:\n",
    "            print(number)"
   ]
  }
 ],
 "metadata": {
  "kernelspec": {
   "display_name": "Python 3 (ipykernel)",
   "language": "python",
   "name": "python3"
  },
  "language_info": {
   "codemirror_mode": {
    "name": "ipython",
    "version": 3
   },
   "file_extension": ".py",
   "mimetype": "text/x-python",
   "name": "python",
   "nbconvert_exporter": "python",
   "pygments_lexer": "ipython3",
   "version": "3.10.0"
  }
 },
 "nbformat": 4,
 "nbformat_minor": 5
}
