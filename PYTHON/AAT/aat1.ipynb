{
 "cells": [
  {
   "cell_type": "code",
   "execution_count": 4,
   "metadata": {},
   "outputs": [
    {
     "name": "stdout",
     "output_type": "stream",
     "text": [
      "Area of square is:576 cm square\n",
      "Area of Rectangle is:50 cm square\n"
     ]
    }
   ],
   "source": [
    "#1.Program to calculate area of square and rectangle\n",
    "l_sq=int(input(\"Enter length of Square(cm):\"))\n",
    "l_rect=int(input(\"Enter length of Rectangle(cm):\"))\n",
    "b_rect=int(input(\"Enter breadth of Rectangle(cm):\"))\n",
    "\n",
    "print('Area of square is:{} cm square'.format(l_sq**2))\n",
    "print('Area of Rectangle is:{} cm square'.format(l_rect*b_rect))"
   ]
  },
  {
   "cell_type": "code",
   "execution_count": 6,
   "metadata": {},
   "outputs": [
    {
     "name": "stdout",
     "output_type": "stream",
     "text": [
      "Concatination of Anirudh, Parvatikar is:Anirudh Parvatikar\n"
     ]
    }
   ],
   "source": [
    "#2. Python Program to perform String Concatination.\n",
    "str1=input(\"Enter 1st string:\")\n",
    "str2=input(\"Enter 2nd string:\")\n",
    "\n",
    "print(\"Concatination of {},{} is:{}\".format(str1,str2,str1+str2))"
   ]
  },
  {
   "cell_type": "code",
   "execution_count": 2,
   "metadata": {},
   "outputs": [
    {
     "name": "stdout",
     "output_type": "stream",
     "text": [
      "Entered character is:D\n",
      "Lower case is:d\n"
     ]
    }
   ],
   "source": [
    "#3. Write python program to read c character in upper case and print in lower case\n",
    "chr=input(\"Enter character in upper case:\")\n",
    "if len(chr)>1:\n",
    "    print('Please enter only 1 character')\n",
    "else:\n",
    "    print('Entered character is:{}'.format(chr))\n",
    "    print('Lower case is:{}'.format(chr.lower()))"
   ]
  },
  {
   "cell_type": "code",
   "execution_count": 25,
   "metadata": {},
   "outputs": [
    {
     "name": "stdout",
     "output_type": "stream",
     "text": [
      "Simple interest is:240.0/-\n",
      "Coumpond interest is:229.246/-\n"
     ]
    }
   ],
   "source": [
    "#4. Write Program to calculate simple interest and compund interest.\n",
    "p=int(input('Enter principal amount:'))\n",
    "t=float(input(\"Enter time(in years):\"))\n",
    "r=float(input(\"Enter rate of interest:\"))\n",
    "\n",
    "print('Simple interest is:{}/-'.format((p*t*r)/100))\n",
    "amt=p*((1+r/100)**t)\n",
    "ci=amt-p\n",
    "print('Coumpond interest is:{0:.3f}/-'.format(ci))"
   ]
  },
  {
   "cell_type": "code",
   "execution_count": 24,
   "metadata": {},
   "outputs": [
    {
     "name": "stdout",
     "output_type": "stream",
     "text": [
      "Base salary:50000/-\n",
      "Total salary of employee is:55000.0/-\n"
     ]
    }
   ],
   "source": [
    "#5. Write python program to find salary of employee,\n",
    "#based on HRA,TA\n",
    "HRA=10\n",
    "TA=5\n",
    "\n",
    "base=int(input('Enter basic pay of employee:'))\n",
    "salary=base+(HRA/100)*base\n",
    "print('Base salary:{}/-'.format(base))\n",
    "print('Total salary of employee is:{}/-'.format(salary))"
   ]
  },
  {
   "cell_type": "code",
   "execution_count": 11,
   "metadata": {},
   "outputs": [
    {
     "name": "stdout",
     "output_type": "stream",
     "text": [
      "a is in lowercase.\n"
     ]
    }
   ],
   "source": [
    "#6.Write a python program to check if input is number\n",
    "#or if it is character, if character then determine if it's\n",
    "#Upper case or lower case\n",
    "\n",
    "inp=input('Enter number or character:')\n",
    "if inp.isnumeric():\n",
    "    print('{} is numeric input'.format(inp))\n",
    "elif inp.isupper():\n",
    "    print('{} is in uppercase.'.format(inp))\n",
    "elif inp.islower():\n",
    "    print('{} is in lowercase.'.format(inp))\n",
    "else:\n",
    "    print('Invalid Input')"
   ]
  },
  {
   "cell_type": "code",
   "execution_count": 20,
   "metadata": {},
   "outputs": [
    {
     "name": "stdout",
     "output_type": "stream",
     "text": [
      "Reverse of 21 is 12\n"
     ]
    }
   ],
   "source": [
    "#7.Write python program to reverse number\n",
    "num=int(input(\"Enter number:\"))\n",
    "num1=num\n",
    "sum=0\n",
    "while num>0:\n",
    "    rem=num%10\n",
    "    sum=(sum*10)+rem\n",
    "    num=int(num/10)\n",
    "print('Reverse of {} is {}'.format(num1,sum))"
   ]
  },
  {
   "cell_type": "code",
   "execution_count": 22,
   "metadata": {},
   "outputs": [
    {
     "name": "stdout",
     "output_type": "stream",
     "text": [
      "13 * 1 = 13\n",
      "13 * 2 = 26\n",
      "13 * 3 = 39\n",
      "13 * 4 = 52\n",
      "13 * 5 = 65\n",
      "13 * 6 = 78\n",
      "13 * 7 = 91\n",
      "13 * 8 = 104\n",
      "13 * 9 = 117\n",
      "13 * 10 = 130\n"
     ]
    }
   ],
   "source": [
    "#8. Write python program to print multiplcation\n",
    "#table of number n given by user.\n",
    "n=int(input(\"Enter value for n:\"))\n",
    "for i in range(1,11):\n",
    "    print('{} * {} = {}'.format(n,i,n*i))"
   ]
  }
 ],
 "metadata": {
  "kernelspec": {
   "display_name": "Python 3",
   "language": "python",
   "name": "python3"
  },
  "language_info": {
   "codemirror_mode": {
    "name": "ipython",
    "version": 3
   },
   "file_extension": ".py",
   "mimetype": "text/x-python",
   "name": "python",
   "nbconvert_exporter": "python",
   "pygments_lexer": "ipython3",
   "version": "3.10.0"
  },
  "orig_nbformat": 4
 },
 "nbformat": 4,
 "nbformat_minor": 2
}
