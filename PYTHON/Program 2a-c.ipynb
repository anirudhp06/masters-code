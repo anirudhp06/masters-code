{
 "cells": [
  {
   "cell_type": "code",
   "execution_count": 4,
   "metadata": {},
   "outputs": [
    {
     "name": "stdout",
     "output_type": "stream",
     "text": [
      "Palindrome numbers between range  200 - 300 :\n",
      "202 212 222 232 242 252 262 272 282 292 "
     ]
    }
   ],
   "source": [
    "# Program 2.a Display palindrome in given range.\n",
    "lower=int(input('Enter lower range:'))\n",
    "upper=int(input('Enter upper range:'))\n",
    "print('Palindrome numbers between range ',lower,'-',upper,':')\n",
    "for i in range(lower,upper+1):\n",
    "    temp=i\n",
    "    rev=0\n",
    "    while temp>0:\n",
    "        rem=temp%10\n",
    "        rev=(rev*10)+rem\n",
    "        temp=temp//10\n",
    "    if rev==i:\n",
    "        print(rev,end=' ')"
   ]
  },
  {
   "cell_type": "code",
   "execution_count": 7,
   "metadata": {},
   "outputs": [
    {
     "name": "stdout",
     "output_type": "stream",
     "text": [
      "* \n",
      "\n",
      "* * \n",
      "\n",
      "* * * \n",
      "\n",
      "* * * * \n",
      "\n",
      "* * * * * \n",
      "\n"
     ]
    }
   ],
   "source": [
    "# Program 2.b Display Triangle pattern of '*'\n",
    "row=int(input('Enter rows:'))\n",
    "for i in range(row):\n",
    "    for j in range(i+1):\n",
    "        print('*',end=' ')\n",
    "    print('\\n')"
   ]
  },
  {
   "cell_type": "code",
   "execution_count": 9,
   "metadata": {},
   "outputs": [
    {
     "name": "stdout",
     "output_type": "stream",
     "text": [
      "1 \n",
      "\n",
      "1 2 \n",
      "\n",
      "1 2 3 \n",
      "\n",
      "1 2 3 4 \n",
      "\n",
      "1 2 3 4 5 \n",
      "\n"
     ]
    }
   ],
   "source": [
    "# Program 2.c Display triangle pattern of numbers\n",
    "row=int(input('Enter rows:'))\n",
    "for i in range(1,row+1):\n",
    "    for j in range(1,i+1):\n",
    "        print(j,end=' ')\n",
    "    print(\"\\n\")"
   ]
  },
  {
   "cell_type": "code",
   "execution_count": null,
   "metadata": {},
   "outputs": [],
   "source": []
  }
 ],
 "metadata": {
  "kernelspec": {
   "display_name": "Python 3 (ipykernel)",
   "language": "python",
   "name": "python3"
  },
  "language_info": {
   "codemirror_mode": {
    "name": "ipython",
    "version": 3
   },
   "file_extension": ".py",
   "mimetype": "text/x-python",
   "name": "python",
   "nbconvert_exporter": "python",
   "pygments_lexer": "ipython3",
   "version": "3.10.0"
  },
  "orig_nbformat": 4
 },
 "nbformat": 4,
 "nbformat_minor": 2
}
