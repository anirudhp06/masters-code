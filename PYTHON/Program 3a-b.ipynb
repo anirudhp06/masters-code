{
 "cells": [
  {
   "cell_type": "code",
   "execution_count": 13,
   "metadata": {},
   "outputs": [
    {
     "name": "stdout",
     "output_type": "stream",
     "text": [
      "Elements are:\n",
      "[50, 10, 30, 90]\n",
      "Largest of element is: 90\n"
     ]
    }
   ],
   "source": [
    "#Write Python Program to find maximum of list of number\n",
    "n=int(input('Enter size of list:'))\n",
    "l=list(map(int,input('Enter Numbers:').strip().split(' ')))[:n]\n",
    "print('Elements are:')\n",
    "print(l)\n",
    "large=l[0]\n",
    "for i in l:\n",
    "    if i>large:\n",
    "        large=i\n",
    "print('Largest of element is:',large)"
   ]
  },
  {
   "cell_type": "code",
   "execution_count": 18,
   "metadata": {},
   "outputs": [
    {
     "name": "stdout",
     "output_type": "stream",
     "text": [
      "[1, 2, 3, 4, 5]\n",
      "Sum of even numbers:6\n",
      "Sum of Odd numbers:9\n"
     ]
    }
   ],
   "source": [
    "#Program to find sum of even & odd numbers in List\n",
    "list1=[]\n",
    "odd=0\n",
    "eve=0\n",
    "n=int(input('How many elements:'))\n",
    "for i in range(n):\n",
    "    list1.append(int(input('Enter {} element:'.format(i+1))))\n",
    "    if list1[i]%2==0:\n",
    "        eve+=list1[i]\n",
    "    else:\n",
    "        odd+=list1[i]\n",
    "print(list1)\n",
    "print('Sum of even numbers:{}\\nSum of Odd numbers:{}'.format(eve,odd))"
   ]
  }
 ],
 "metadata": {
  "kernelspec": {
   "display_name": "Python 3",
   "language": "python",
   "name": "python3"
  },
  "language_info": {
   "codemirror_mode": {
    "name": "ipython",
    "version": 3
   },
   "file_extension": ".py",
   "mimetype": "text/x-python",
   "name": "python",
   "nbconvert_exporter": "python",
   "pygments_lexer": "ipython3",
   "version": "3.10.0"
  },
  "orig_nbformat": 4
 },
 "nbformat": 4,
 "nbformat_minor": 2
}
