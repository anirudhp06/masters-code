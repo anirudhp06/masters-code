{
 "cells": [
  {
   "cell_type": "code",
   "execution_count": 3,
   "metadata": {},
   "outputs": [
    {
     "name": "stdout",
     "output_type": "stream",
     "text": [
      "[75, 162, 33]\n",
      "[30, 27, 44]\n",
      "[0, 162, 11]\n"
     ]
    }
   ],
   "source": [
    "#Python Program to perform Matrix multiplication\n",
    "a=[\n",
    "    [5,6,3],\n",
    "    [2,1,4],\n",
    "    [0,6,1]\n",
    "]\n",
    "\n",
    "b=[\n",
    "    [4,5,6],\n",
    "    [9,9,9],\n",
    "    [6,3,2]\n",
    "]\n",
    "\n",
    "result=[\n",
    "    [0,0,0],\n",
    "    [0,0,0],\n",
    "    [0,0,0]\n",
    "]\n",
    "\n",
    "for i in range(len(a)):\n",
    "    for j in range(len(b[0])):\n",
    "        for k in range(len(b)):\n",
    "            result[i][k]+=a[i][k]*b[k][j]\n",
    "for i in result:\n",
    "    print(i)"
   ]
  },
  {
   "cell_type": "code",
   "execution_count": null,
   "metadata": {},
   "outputs": [],
   "source": [
    "#Python Program to perform set operations.\n",
    "\n",
    "#UNION,DIFFERENCE\n",
    "#Set of vowel"
   ]
  }
 ],
 "metadata": {
  "kernelspec": {
   "display_name": "Python 3",
   "language": "python",
   "name": "python3"
  },
  "language_info": {
   "codemirror_mode": {
    "name": "ipython",
    "version": 3
   },
   "file_extension": ".py",
   "mimetype": "text/x-python",
   "name": "python",
   "nbconvert_exporter": "python",
   "pygments_lexer": "ipython3",
   "version": "3.10.0"
  },
  "orig_nbformat": 4
 },
 "nbformat": 4,
 "nbformat_minor": 2
}
