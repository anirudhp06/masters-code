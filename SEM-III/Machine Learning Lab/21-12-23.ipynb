{
 "cells": [
  {
   "cell_type": "code",
   "execution_count": 1,
   "id": "b144aee7",
   "metadata": {},
   "outputs": [],
   "source": [
    "import pandas as pd\n",
    "import numpy as np\n",
    "import requests"
   ]
  },
  {
   "cell_type": "code",
   "execution_count": 2,
   "id": "70c1b463",
   "metadata": {},
   "outputs": [
    {
     "name": "stdout",
     "output_type": "stream",
     "text": [
      "                                MOVIES         YEAR  \\\n",
      "0                        Blood Red Sky        -2021   \n",
      "1  Masters of the Universe: Revelation     (2021– )   \n",
      "2                     The Walking Dead  (2010–2022)   \n",
      "3                       Rick and Morty     (2013– )   \n",
      "4                      Army of Thieves        -2021   \n",
      "\n",
      "                                        GENRE  RATING  \\\n",
      "0      \\nAction, Horror, Thriller                 6.1   \n",
      "1  \\nAnimation, Action, Adventure                 5.0   \n",
      "2       \\nDrama, Horror, Thriller                 8.2   \n",
      "3  \\nAnimation, Adventure, Comedy                 9.2   \n",
      "4         \\nAction, Crime, Horror                 NaN   \n",
      "\n",
      "                                            ONE-LINE  \\\n",
      "0  \\nA woman with a mysterious illness is forced ...   \n",
      "1  \\nThe war for Eternia begins again in what may...   \n",
      "2  \\nSheriff Deputy Rick Grimes wakes up from a c...   \n",
      "3  \\nAn animated series that follows the exploits...   \n",
      "4  \\nA prequel, set before the events of Army of ...   \n",
      "\n",
      "                                               STARS     VOTES  RunTime Gross  \n",
      "0  \\n    Director:\\nPeter Thorwarth\\n| \\n    Star...    21,062    121.0   NaN  \n",
      "1  \\n            \\n    Stars:\\nChris Wood, \\nSara...    17,870     25.0   NaN  \n",
      "2  \\n            \\n    Stars:\\nAndrew Lincoln, \\n...  8,85,805     44.0   NaN  \n",
      "3  \\n            \\n    Stars:\\nJustin Roiland, \\n...  4,14,849     23.0   NaN  \n",
      "4  \\n    Director:\\nMatthias Schweighöfer\\n| \\n  ...       NaN      NaN   NaN  \n",
      "<class 'pandas.core.frame.DataFrame'>\n",
      "RangeIndex: 9999 entries, 0 to 9998\n",
      "Data columns (total 9 columns):\n",
      " #   Column    Non-Null Count  Dtype  \n",
      "---  ------    --------------  -----  \n",
      " 0   MOVIES    9999 non-null   object \n",
      " 1   YEAR      9355 non-null   object \n",
      " 2   GENRE     9919 non-null   object \n",
      " 3   RATING    8179 non-null   float64\n",
      " 4   ONE-LINE  9999 non-null   object \n",
      " 5   STARS     9999 non-null   object \n",
      " 6   VOTES     8179 non-null   object \n",
      " 7   RunTime   7041 non-null   float64\n",
      " 8   Gross     460 non-null    object \n",
      "dtypes: float64(2), object(7)\n",
      "memory usage: 703.2+ KB\n",
      "None\n"
     ]
    }
   ],
   "source": [
    "data=pd.read_csv('movies.csv')\n",
    "print(data.head())\n",
    "print(data.info())"
   ]
  },
  {
   "cell_type": "code",
   "execution_count": 3,
   "id": "ce239537",
   "metadata": {},
   "outputs": [
    {
     "data": {
      "text/plain": [
       "MOVIES         0\n",
       "YEAR         644\n",
       "GENRE         80\n",
       "RATING      1820\n",
       "ONE-LINE       0\n",
       "STARS          0\n",
       "VOTES       1820\n",
       "RunTime     2958\n",
       "Gross       9539\n",
       "dtype: int64"
      ]
     },
     "execution_count": 3,
     "metadata": {},
     "output_type": "execute_result"
    }
   ],
   "source": [
    "data.isnull().sum()"
   ]
  },
  {
   "cell_type": "code",
   "execution_count": 4,
   "id": "653c650b",
   "metadata": {},
   "outputs": [
    {
     "name": "stdout",
     "output_type": "stream",
     "text": [
      "9999\n",
      "9999\n"
     ]
    }
   ],
   "source": [
    "data_1=data.dropna(axis=0,how='all')\n",
    "print(len(data))\n",
    "print(len(data_1)) # ignore this output from record"
   ]
  },
  {
   "cell_type": "code",
   "execution_count": 5,
   "id": "e6933a2f",
   "metadata": {},
   "outputs": [],
   "source": [
    "data['VOTES']=data['VOTES'].fillna(\"0\")"
   ]
  },
  {
   "cell_type": "code",
   "execution_count": 9,
   "id": "3af04ef8",
   "metadata": {},
   "outputs": [
    {
     "data": {
      "text/plain": [
       "MOVIES         0\n",
       "YEAR         644\n",
       "GENRE         80\n",
       "RATING      1820\n",
       "ONE-LINE       0\n",
       "STARS          0\n",
       "VOTES          0\n",
       "RunTime        0\n",
       "Gross       9539\n",
       "dtype: int64"
      ]
     },
     "execution_count": 9,
     "metadata": {},
     "output_type": "execute_result"
    }
   ],
   "source": [
    "meanRT=data['RunTime'].mean()\n",
    "meanRT=round(meanRT,1)\n",
    "data.RunTime=data.RunTime.fillna(meanRT)\n",
    "data.isnull().sum()"
   ]
  },
  {
   "cell_type": "code",
   "execution_count": 11,
   "id": "3ad2a2c1",
   "metadata": {},
   "outputs": [
    {
     "data": {
      "text/plain": [
       "MOVIES         0\n",
       "YEAR         644\n",
       "GENRE         80\n",
       "RATING         0\n",
       "ONE-LINE       0\n",
       "STARS          0\n",
       "VOTES          0\n",
       "RunTime        0\n",
       "Gross       9539\n",
       "dtype: int64"
      ]
     },
     "execution_count": 11,
     "metadata": {},
     "output_type": "execute_result"
    }
   ],
   "source": [
    "meanRating=data.RATING.mean()\n",
    "meanRating=round(meanRating,1)\n",
    "data.RATING=data.RATING.fillna(meanRating)\n",
    "data.isnull().sum()"
   ]
  },
  {
   "cell_type": "code",
   "execution_count": 12,
   "id": "e88d4b11",
   "metadata": {},
   "outputs": [
    {
     "data": {
      "text/plain": [
       "MOVIES         0\n",
       "YEAR         644\n",
       "GENRE          0\n",
       "RATING         0\n",
       "ONE-LINE       0\n",
       "STARS          0\n",
       "VOTES          0\n",
       "RunTime        0\n",
       "Gross       9539\n",
       "dtype: int64"
      ]
     },
     "execution_count": 12,
     "metadata": {},
     "output_type": "execute_result"
    }
   ],
   "source": [
    "data.GENRE=data.GENRE.fillna('comedy')\n",
    "data.isnull().sum()"
   ]
  },
  {
   "cell_type": "code",
   "execution_count": 13,
   "id": "fec66ed5",
   "metadata": {},
   "outputs": [
    {
     "data": {
      "text/plain": [
       "MOVIES         0\n",
       "YEAR           0\n",
       "GENRE          0\n",
       "RATING         0\n",
       "ONE-LINE       0\n",
       "STARS          0\n",
       "VOTES          0\n",
       "RunTime        0\n",
       "Gross       9539\n",
       "dtype: int64"
      ]
     },
     "execution_count": 13,
     "metadata": {},
     "output_type": "execute_result"
    }
   ],
   "source": [
    "data['YEAR']=data['YEAR'].fillna(1999)\n",
    "data.isnull().sum()"
   ]
  },
  {
   "cell_type": "code",
   "execution_count": 14,
   "id": "9e890b6d",
   "metadata": {},
   "outputs": [
    {
     "data": {
      "text/plain": [
       "MOVIES      0\n",
       "YEAR        0\n",
       "GENRE       0\n",
       "RATING      0\n",
       "ONE-LINE    0\n",
       "STARS       0\n",
       "VOTES       0\n",
       "RunTime     0\n",
       "dtype: int64"
      ]
     },
     "execution_count": 14,
     "metadata": {},
     "output_type": "execute_result"
    }
   ],
   "source": [
    "data=data.drop(labels=['Gross'],axis=1)\n",
    "data.isnull().sum()"
   ]
  },
  {
   "cell_type": "code",
   "execution_count": null,
   "id": "6ce9f4af",
   "metadata": {},
   "outputs": [],
   "source": []
  }
 ],
 "metadata": {
  "kernelspec": {
   "display_name": "Python 3 (ipykernel)",
   "language": "python",
   "name": "python3"
  },
  "language_info": {
   "codemirror_mode": {
    "name": "ipython",
    "version": 3
   },
   "file_extension": ".py",
   "mimetype": "text/x-python",
   "name": "python",
   "nbconvert_exporter": "python",
   "pygments_lexer": "ipython3",
   "version": "3.10.0"
  }
 },
 "nbformat": 4,
 "nbformat_minor": 5
}
